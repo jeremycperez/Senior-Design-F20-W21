{
 "cells": [
  {
   "cell_type": "code",
   "execution_count": 4,
   "metadata": {},
   "outputs": [
    {
     "name": "stdout",
     "output_type": "stream",
     "text": [
      "Avg. FPS =  24.897785818550094\n"
     ]
    }
   ],
   "source": [
    "import cv2\n",
    "import numpy as np\n",
    "import time\n",
    "\n",
    "cap = cv2.VideoCapture(0)\n",
    "cap.set(3,640)\n",
    "cap.set(4,480)\n",
    "\n",
    "new_frame_time = 0\n",
    "prev_frame_time = 0\n",
    "avgFPS = []\n",
    "i = 0\n",
    "\n",
    "while True:\n",
    "    success, img = cap.read()\n",
    "    gray = cv2.cvtColor(img, cv2.COLOR_BGR2GRAY)\n",
    "    edges = cv2.Canny(gray, 50, 100, apertureSize=3)\n",
    "    lines = cv2.HoughLinesP(edges, 1, np.pi/180, 100, 10, maxLineGap=100)\n",
    "    for line in lines:\n",
    "        x1, y1, x2, y2 = line[0]\n",
    "    cv2.line(img, (x1, y1), (x2, y2), (0, 0, 128), 4)\n",
    "    \n",
    "    new_frame_time = time.time()  \n",
    "    fps = 1/(new_frame_time-prev_frame_time) \n",
    "    prev_frame_time = new_frame_time\n",
    "    \n",
    "    if i < 500:\n",
    "        avgFPS.append(fps)\n",
    "        i+=1\n",
    "\n",
    "    \n",
    "    #cv2.imshow(\"linesEdges\", edges)\n",
    "    cv2.imshow(\"linesDetected\", img)\n",
    "    if cv2.waitKey(1) & 0xFF == ord(\"w\"):\n",
    "        break\n",
    "\n",
    "avg = sum(avgFPS)/len(avgFPS)\n",
    "print(\"Avg. FPS = \", avg)\n",
    "cap.release()\n",
    "cv2.destroyAllWindows()\n"
   ]
  },
  {
   "cell_type": "code",
   "execution_count": null,
   "metadata": {},
   "outputs": [],
   "source": []
  },
  {
   "cell_type": "code",
   "execution_count": null,
   "metadata": {},
   "outputs": [],
   "source": []
  }
 ],
 "metadata": {
  "kernelspec": {
   "display_name": "Python 3",
   "language": "python",
   "name": "python3"
  },
  "language_info": {
   "codemirror_mode": {
    "name": "ipython",
    "version": 3
   },
   "file_extension": ".py",
   "mimetype": "text/x-python",
   "name": "python",
   "nbconvert_exporter": "python",
   "pygments_lexer": "ipython3",
   "version": "3.7.6"
  }
 },
 "nbformat": 4,
 "nbformat_minor": 4
}
