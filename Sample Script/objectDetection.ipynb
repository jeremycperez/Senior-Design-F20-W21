{
 "cells": [
  {
   "cell_type": "code",
   "execution_count": 6,
   "metadata": {},
   "outputs": [
    {
     "name": "stdout",
     "output_type": "stream",
     "text": [
      "Avg. FPS =  19.631391528227702\n"
     ]
    }
   ],
   "source": [
    "import cv2 as cv\n",
    "import time\n",
    "import numpy as np\n",
    "\n",
    "cap = cv.VideoCapture(0)\n",
    "cap.set(3,640)\n",
    "cap.set(4,480)\n",
    "\n",
    "prev_frame_time = 0\n",
    "new_frame_time = 0\n",
    "font = cv.FONT_HERSHEY_SIMPLEX \n",
    "avgFPS = []\n",
    "i = 0\n",
    "\n",
    "while True:\n",
    "    success, img = cap.read()\n",
    "    noise = cv.bilateralFilter(img,9,75,75)\n",
    "    edge = cv.Canny(noise, 50, 150)    \n",
    "    kernel = np.ones((3,3), np.uint8)\n",
    "    dilated = cv.dilate(edge,kernel,iterations=1)\n",
    "    \n",
    "    new_frame_time = time.time()  \n",
    "    fps = 1/(new_frame_time-prev_frame_time) \n",
    "    prev_frame_time = new_frame_time\n",
    "    \n",
    "    if i < 500:\n",
    "        avgFPS.append(fps)\n",
    "        i+=1\n",
    "    \n",
    "    fps = int(fps)  \n",
    "    fps = str(fps) \n",
    "    \n",
    "    contours, h = cv.findContours(dilated, 1, 2)\n",
    "    contours= sorted(contours, key = cv.contourArea, reverse = True)[:1]\n",
    "    pt = (180, 3 * img.shape[0] // 4)\n",
    "    \n",
    "    for cnt in contours:\n",
    "        approx = cv.approxPolyDP(cnt,0.01*cv.arcLength(cnt,True),True)\n",
    "        # print len(cnt)\n",
    "        if len(approx) >= 4 and len(approx) <= 8:\n",
    "            cv.drawContours(img,[cnt],-1,(255,0,0),3)\n",
    "            cv.putText(img,'Cube', pt ,font, 2, [0,255, 255], 2)\n",
    " \n",
    "    cv.putText(img, fps, (7, 70), font, 3, (100, 255, 0), 3, cv.LINE_AA) \n",
    "    cv.namedWindow(\"Shape\", cv.WINDOW_NORMAL)\n",
    "    cv.imshow('Shape',img)\n",
    "\n",
    "    corners    = cv.goodFeaturesToTrack(edge,6,0.06,25)\n",
    "    corners    = np.float32(corners)\n",
    "    \n",
    "    for    item in    corners:\n",
    "        x,y    = item[0]\n",
    "        cv.circle(img,(x,y),10,255,-1)\n",
    "    \n",
    "    cv.putText(img, fps, (7, 70), font, 3, (100, 255, 0), 3, cv.LINE_AA) \n",
    "    cv.namedWindow(\"Corners\", cv.WINDOW_NORMAL)\n",
    "    cv.imshow(\"Corners\",img)\n",
    "     \n",
    "   \n",
    "    \n",
    "    cv.putText(edge, fps, (7, 70), font, 3, (100, 255, 0), 3, cv.LINE_AA) \n",
    "    cv.namedWindow(\"Webcam\", cv.WINDOW_NORMAL)\n",
    "    cv.imshow(\"Webcam\", edge)\n",
    "    \n",
    "    if cv.waitKey(1) & 0xFF == ord(\"w\"):\n",
    "        break\n",
    "        \n",
    "avg = sum(avgFPS)/len(avgFPS)\n",
    "print(\"Avg. FPS = \", avg)\n",
    "cap.release() \n",
    "cv.destroyAllWindows() "
   ]
  },
  {
   "cell_type": "code",
   "execution_count": null,
   "metadata": {},
   "outputs": [],
   "source": []
  },
  {
   "cell_type": "code",
   "execution_count": null,
   "metadata": {},
   "outputs": [],
   "source": []
  }
 ],
 "metadata": {
  "kernelspec": {
   "display_name": "Python 3",
   "language": "python",
   "name": "python3"
  },
  "language_info": {
   "codemirror_mode": {
    "name": "ipython",
    "version": 3
   },
   "file_extension": ".py",
   "mimetype": "text/x-python",
   "name": "python",
   "nbconvert_exporter": "python",
   "pygments_lexer": "ipython3",
   "version": "3.7.6"
  }
 },
 "nbformat": 4,
 "nbformat_minor": 4
}
