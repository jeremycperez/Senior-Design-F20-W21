{
 "cells": [
  {
   "cell_type": "code",
   "execution_count": null,
   "metadata": {},
   "outputs": [
    {
     "name": "stdout",
     "output_type": "stream",
     "text": [
      "Successfully saved: img1000jpg\n"
     ]
    }
   ],
   "source": [
    "##https://www.geeksforgeeks.org/python-opencv-cv2-imwrite-method/\n",
    "# Modifed version of script found on geeksforgeeks\n",
    "# Python program to explain cv2.imwrite() method \n",
    "  \n",
    "import cv2 \n",
    "import numpy as np\n",
    "import time     \n",
    "import os \n",
    "\n",
    "i=999\n",
    "  \n",
    "# Image directory \n",
    "directory = r'F:\\imageCollector'\n",
    "  \n",
    "cap = cv2.VideoCapture(0)\n",
    "\n",
    "cap.set(3,640)\n",
    "cap.set(4,480)\n",
    "    \n",
    "\n",
    "while(cap.isOpened()):\n",
    "    # Capture frame-by-frame\n",
    "    ret, frame = cap.read()\n",
    "  \n",
    "    # Change the current directory  \n",
    "    # to specified directory  \n",
    "    os.chdir(directory) \n",
    "\n",
    "    cv2.imshow('frame',frame)\n",
    "    key = cv2.waitKey(1)\n",
    "    if key & 0xFF == ord('w'):\n",
    "        break\n",
    "    elif key & 0xFF == ord('s'): # wait for 's' key to save \n",
    "        cv2.imwrite('img'+str(i)+'.jpg', frame) \n",
    "        i+=1\n",
    "        print('Successfully saved: img'+str(i-1)+'jpg') \n",
    "        \n",
    "# When everything done, release the capture\n",
    "cap.release()\n",
    "cv2.destroyAllWindows()\n",
    "    "
   ]
  },
  {
   "cell_type": "code",
   "execution_count": null,
   "metadata": {},
   "outputs": [],
   "source": []
  }
 ],
 "metadata": {
  "kernelspec": {
   "display_name": "Python 3",
   "language": "python",
   "name": "python3"
  },
  "language_info": {
   "codemirror_mode": {
    "name": "ipython",
    "version": 3
   },
   "file_extension": ".py",
   "mimetype": "text/x-python",
   "name": "python",
   "nbconvert_exporter": "python",
   "pygments_lexer": "ipython3",
   "version": "3.7.6"
  }
 },
 "nbformat": 4,
 "nbformat_minor": 4
}
